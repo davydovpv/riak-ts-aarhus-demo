{
 "cells": [
  {
   "cell_type": "markdown",
   "metadata": {},
   "source": [
    "![Basho banner](./basho_vert.png)\n",
    "## Riak TS 1.2 Demonstration\n",
    "\n",
    "#### Describe environment\n",
    "* VirtualBox environment\n",
    "* Linux Mint 17.2\n",
    "* 8GB RAM\n",
    "* 2 cores\n",
    "* 50GB HDD\n",
    "\n",
    "#### Describe data\n",
    "\n",
    "### Table creation\n"
   ]
  },
  {
   "cell_type": "code",
   "execution_count": 1,
   "metadata": {
    "collapsed": false
   },
   "outputs": [
    {
     "name": "stderr",
     "output_type": "stream",
     "text": [
      "\n"
     ]
    }
   ],
   "source": [
    "from riak import RiakClient"
   ]
  },
  {
   "cell_type": "code",
   "execution_count": 2,
   "metadata": {
    "collapsed": false
   },
   "outputs": [
    {
     "data": {
      "text/plain": [
       "True"
      ]
     },
     "execution_count": 2,
     "metadata": {},
     "output_type": "execute_result"
    }
   ],
   "source": [
    "c=RiakClient()\n",
    "c.ping()"
   ]
  },
  {
   "cell_type": "code",
   "execution_count": null,
   "metadata": {
    "collapsed": false
   },
   "outputs": [],
   "source": [
    "#create table\n",
    "#DO NOT RUN THIS CELL IF THE TABLE ALREADY EXISTS - IT WILL GENERATE AN ERROR\n",
    "\n",
    "fmt=\"\"\"\n",
    "    CREATE TABLE aarhus (\n",
    "        status varchar not null,\n",
    "        extid varchar not null,\n",
    "        ts timestamp not null,\n",
    "        avgMeasuredTime sint64 not null,\n",
    "        avgSpeed sint64 not null,\n",
    "        medianMeasuredTime sint64 not null,\n",
    "        vehicleCount sint64 not null,\n",
    "        PRIMARY KEY (\n",
    "            (status,extid,quantum(ts,30,'d')),\n",
    "            status,extid,ts\n",
    "        ))\n",
    "\"\"\"\n",
    "c.ts_query('aarhus',fmt)"
   ]
  },
  {
   "cell_type": "code",
   "execution_count": 3,
   "metadata": {
    "collapsed": false
   },
   "outputs": [
    {
     "name": "stdout",
     "output_type": "stream",
     "text": [
      "['status', 'varchar', False, 1L, 1L]\n",
      "['extid', 'varchar', False, 2L, 2L]\n",
      "['ts', 'timestamp', False, 3L, 3L]\n",
      "['avgMeasuredTime', 'sint64', False, None, None]\n",
      "['avgSpeed', 'sint64', False, None, None]\n",
      "['medianMeasuredTime', 'sint64', False, None, None]\n",
      "['vehicleCount', 'sint64', False, None, None]\n",
      "['id', 'sint64', False, None, None]\n",
      "['report_id', 'sint64', False, None, None]\n"
     ]
    }
   ],
   "source": [
    "t=c.table('aarhus')\n",
    "to=t.describe()\n",
    "for r in to.rows:\n",
    "    print r"
   ]
  },
  {
   "cell_type": "markdown",
   "metadata": {},
   "source": [
    "For development environments deployed on a single instance of Riak the default n_val setting should be changed to 1.",
    " If you haven't already done so via the riak.conf, you may do so on an individual bucket basis using the riak-admin cli like so:\n",
    "\n",
    "$riak-admin bucket-type update aarhus '{\"props\":{\"n_val\":1}}'\n",
    "aarhus updated\n",
    "\n",
    "$ riak-admin bucket-type status aarhus\n",
    "aarhus is active\n"
   ]
  },
  {
   "cell_type": "markdown",
   "metadata": {},
   "source": [
    "#### Now use the script load-data.py to load data into the table created above"
   ]
  }
 ],
 "metadata": {
  "kernelspec": {
   "display_name": "Python 2",
   "language": "python",
   "name": "python2"
  },
  "language_info": {
   "codemirror_mode": {
    "name": "ipython",
    "version": 2
   },
   "file_extension": ".py",
   "mimetype": "text/x-python",
   "name": "python",
   "nbconvert_exporter": "python",
   "pygments_lexer": "ipython2",
   "version": "2.7.6"
  }
 },
 "nbformat": 4,
 "nbformat_minor": 0
}
